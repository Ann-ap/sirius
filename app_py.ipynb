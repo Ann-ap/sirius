{
  "cells": [
    {
      "cell_type": "markdown",
      "metadata": {
        "id": "view-in-github",
        "colab_type": "text"
      },
      "source": [
        "<a href=\"https://colab.research.google.com/github/Ann-ap/sirius/blob/main/app_py.ipynb\" target=\"_parent\"><img src=\"https://colab.research.google.com/assets/colab-badge.svg\" alt=\"Open In Colab\"/></a>"
      ]
    },
    {
      "cell_type": "code",
      "source": [
        "# Установка необходимых библиотек\n",
        "!pip install transformers torch sentencepiece rouge_score nltk streamlit PyPDF2"
      ],
      "metadata": {
        "colab": {
          "base_uri": "https://localhost:8080/"
        },
        "id": "B7yADC1LmXXS",
        "outputId": "1309e974-3183-4ece-ddee-a721d1f21b9b",
        "collapsed": true
      },
      "execution_count": null,
      "outputs": [
        {
          "output_type": "stream",
          "name": "stdout",
          "text": [
            "Requirement already satisfied: transformers in /usr/local/lib/python3.10/dist-packages (4.44.2)\n",
            "Requirement already satisfied: torch in /usr/local/lib/python3.10/dist-packages (2.5.0+cu121)\n",
            "Requirement already satisfied: sentencepiece in /usr/local/lib/python3.10/dist-packages (0.2.0)\n",
            "Requirement already satisfied: rouge_score in /usr/local/lib/python3.10/dist-packages (0.1.2)\n",
            "Requirement already satisfied: nltk in /usr/local/lib/python3.10/dist-packages (3.8.1)\n",
            "Requirement already satisfied: streamlit in /usr/local/lib/python3.10/dist-packages (1.39.0)\n",
            "Requirement already satisfied: PyPDF2 in /usr/local/lib/python3.10/dist-packages (3.0.1)\n",
            "Requirement already satisfied: filelock in /usr/local/lib/python3.10/dist-packages (from transformers) (3.16.1)\n",
            "Requirement already satisfied: huggingface-hub<1.0,>=0.23.2 in /usr/local/lib/python3.10/dist-packages (from transformers) (0.24.7)\n",
            "Requirement already satisfied: numpy>=1.17 in /usr/local/lib/python3.10/dist-packages (from transformers) (1.26.4)\n",
            "Requirement already satisfied: packaging>=20.0 in /usr/local/lib/python3.10/dist-packages (from transformers) (24.1)\n",
            "Requirement already satisfied: pyyaml>=5.1 in /usr/local/lib/python3.10/dist-packages (from transformers) (6.0.2)\n",
            "Requirement already satisfied: regex!=2019.12.17 in /usr/local/lib/python3.10/dist-packages (from transformers) (2024.9.11)\n",
            "Requirement already satisfied: requests in /usr/local/lib/python3.10/dist-packages (from transformers) (2.32.3)\n",
            "Requirement already satisfied: safetensors>=0.4.1 in /usr/local/lib/python3.10/dist-packages (from transformers) (0.4.5)\n",
            "Requirement already satisfied: tokenizers<0.20,>=0.19 in /usr/local/lib/python3.10/dist-packages (from transformers) (0.19.1)\n",
            "Requirement already satisfied: tqdm>=4.27 in /usr/local/lib/python3.10/dist-packages (from transformers) (4.66.6)\n",
            "Requirement already satisfied: typing-extensions>=4.8.0 in /usr/local/lib/python3.10/dist-packages (from torch) (4.12.2)\n",
            "Requirement already satisfied: networkx in /usr/local/lib/python3.10/dist-packages (from torch) (3.4.2)\n",
            "Requirement already satisfied: jinja2 in /usr/local/lib/python3.10/dist-packages (from torch) (3.1.4)\n",
            "Requirement already satisfied: fsspec in /usr/local/lib/python3.10/dist-packages (from torch) (2024.10.0)\n",
            "Requirement already satisfied: sympy==1.13.1 in /usr/local/lib/python3.10/dist-packages (from torch) (1.13.1)\n",
            "Requirement already satisfied: mpmath<1.4,>=1.1.0 in /usr/local/lib/python3.10/dist-packages (from sympy==1.13.1->torch) (1.3.0)\n",
            "Requirement already satisfied: absl-py in /usr/local/lib/python3.10/dist-packages (from rouge_score) (1.4.0)\n",
            "Requirement already satisfied: six>=1.14.0 in /usr/local/lib/python3.10/dist-packages (from rouge_score) (1.16.0)\n",
            "Requirement already satisfied: click in /usr/local/lib/python3.10/dist-packages (from nltk) (8.1.7)\n",
            "Requirement already satisfied: joblib in /usr/local/lib/python3.10/dist-packages (from nltk) (1.4.2)\n",
            "Requirement already satisfied: altair<6,>=4.0 in /usr/local/lib/python3.10/dist-packages (from streamlit) (4.2.2)\n",
            "Requirement already satisfied: blinker<2,>=1.0.0 in /usr/lib/python3/dist-packages (from streamlit) (1.4)\n",
            "Requirement already satisfied: cachetools<6,>=4.0 in /usr/local/lib/python3.10/dist-packages (from streamlit) (5.5.0)\n",
            "Requirement already satisfied: pandas<3,>=1.4.0 in /usr/local/lib/python3.10/dist-packages (from streamlit) (2.2.2)\n",
            "Requirement already satisfied: pillow<11,>=7.1.0 in /usr/local/lib/python3.10/dist-packages (from streamlit) (10.4.0)\n",
            "Requirement already satisfied: protobuf<6,>=3.20 in /usr/local/lib/python3.10/dist-packages (from streamlit) (3.20.3)\n",
            "Requirement already satisfied: pyarrow>=7.0 in /usr/local/lib/python3.10/dist-packages (from streamlit) (17.0.0)\n",
            "Requirement already satisfied: rich<14,>=10.14.0 in /usr/local/lib/python3.10/dist-packages (from streamlit) (13.9.3)\n",
            "Requirement already satisfied: tenacity<10,>=8.1.0 in /usr/local/lib/python3.10/dist-packages (from streamlit) (9.0.0)\n",
            "Requirement already satisfied: toml<2,>=0.10.1 in /usr/local/lib/python3.10/dist-packages (from streamlit) (0.10.2)\n",
            "Requirement already satisfied: gitpython!=3.1.19,<4,>=3.0.7 in /usr/local/lib/python3.10/dist-packages (from streamlit) (3.1.43)\n",
            "Requirement already satisfied: pydeck<1,>=0.8.0b4 in /usr/local/lib/python3.10/dist-packages (from streamlit) (0.9.1)\n",
            "Requirement already satisfied: tornado<7,>=6.0.3 in /usr/local/lib/python3.10/dist-packages (from streamlit) (6.3.3)\n",
            "Requirement already satisfied: watchdog<6,>=2.1.5 in /usr/local/lib/python3.10/dist-packages (from streamlit) (5.0.3)\n",
            "Requirement already satisfied: entrypoints in /usr/local/lib/python3.10/dist-packages (from altair<6,>=4.0->streamlit) (0.4)\n",
            "Requirement already satisfied: jsonschema>=3.0 in /usr/local/lib/python3.10/dist-packages (from altair<6,>=4.0->streamlit) (4.23.0)\n",
            "Requirement already satisfied: toolz in /usr/local/lib/python3.10/dist-packages (from altair<6,>=4.0->streamlit) (0.12.1)\n",
            "Requirement already satisfied: gitdb<5,>=4.0.1 in /usr/local/lib/python3.10/dist-packages (from gitpython!=3.1.19,<4,>=3.0.7->streamlit) (4.0.11)\n",
            "Requirement already satisfied: python-dateutil>=2.8.2 in /usr/local/lib/python3.10/dist-packages (from pandas<3,>=1.4.0->streamlit) (2.8.2)\n",
            "Requirement already satisfied: pytz>=2020.1 in /usr/local/lib/python3.10/dist-packages (from pandas<3,>=1.4.0->streamlit) (2024.2)\n",
            "Requirement already satisfied: tzdata>=2022.7 in /usr/local/lib/python3.10/dist-packages (from pandas<3,>=1.4.0->streamlit) (2024.2)\n",
            "Requirement already satisfied: MarkupSafe>=2.0 in /usr/local/lib/python3.10/dist-packages (from jinja2->torch) (3.0.2)\n",
            "Requirement already satisfied: charset-normalizer<4,>=2 in /usr/local/lib/python3.10/dist-packages (from requests->transformers) (3.4.0)\n",
            "Requirement already satisfied: idna<4,>=2.5 in /usr/local/lib/python3.10/dist-packages (from requests->transformers) (3.10)\n",
            "Requirement already satisfied: urllib3<3,>=1.21.1 in /usr/local/lib/python3.10/dist-packages (from requests->transformers) (2.2.3)\n",
            "Requirement already satisfied: certifi>=2017.4.17 in /usr/local/lib/python3.10/dist-packages (from requests->transformers) (2024.8.30)\n",
            "Requirement already satisfied: markdown-it-py>=2.2.0 in /usr/local/lib/python3.10/dist-packages (from rich<14,>=10.14.0->streamlit) (3.0.0)\n",
            "Requirement already satisfied: pygments<3.0.0,>=2.13.0 in /usr/local/lib/python3.10/dist-packages (from rich<14,>=10.14.0->streamlit) (2.18.0)\n",
            "Requirement already satisfied: smmap<6,>=3.0.1 in /usr/local/lib/python3.10/dist-packages (from gitdb<5,>=4.0.1->gitpython!=3.1.19,<4,>=3.0.7->streamlit) (5.0.1)\n",
            "Requirement already satisfied: attrs>=22.2.0 in /usr/local/lib/python3.10/dist-packages (from jsonschema>=3.0->altair<6,>=4.0->streamlit) (24.2.0)\n",
            "Requirement already satisfied: jsonschema-specifications>=2023.03.6 in /usr/local/lib/python3.10/dist-packages (from jsonschema>=3.0->altair<6,>=4.0->streamlit) (2024.10.1)\n",
            "Requirement already satisfied: referencing>=0.28.4 in /usr/local/lib/python3.10/dist-packages (from jsonschema>=3.0->altair<6,>=4.0->streamlit) (0.35.1)\n",
            "Requirement already satisfied: rpds-py>=0.7.1 in /usr/local/lib/python3.10/dist-packages (from jsonschema>=3.0->altair<6,>=4.0->streamlit) (0.20.0)\n",
            "Requirement already satisfied: mdurl~=0.1 in /usr/local/lib/python3.10/dist-packages (from markdown-it-py>=2.2.0->rich<14,>=10.14.0->streamlit) (0.1.2)\n"
          ]
        }
      ]
    },
    {
      "cell_type": "code",
      "source": [
        "\n",
        "%%writefile app.py\n",
        "import streamlit as st\n",
        "from PyPDF2 import PdfReader\n",
        "from transformers import MBartForConditionalGeneration, MBart50TokenizerFast\n",
        "import torch"
      ],
      "metadata": {
        "colab": {
          "base_uri": "https://localhost:8080/"
        },
        "id": "_WYyD9COGFoX",
        "outputId": "831eab48-8a44-4654-c2a3-1da1c8d5df4d"
      },
      "execution_count": null,
      "outputs": [
        {
          "output_type": "stream",
          "name": "stdout",
          "text": [
            "Overwriting app.py\n"
          ]
        }
      ]
    },
    {
      "cell_type": "code",
      "source": [
        "\n",
        "MAX_FILE_SIZE = 5 * 1024 * 1024  # 5 MB\n",
        "\n",
        "SUPPORTED_LANGUAGES = {\n",
        "    \"Русский\": \"ru_RU\",\n",
        "    \"Английский\": \"en_XX\",\n",
        "    \"Французский\": \"fr_XX\",\n",
        "    \"Немецкий\": \"de_DE\",\n",
        "    \"Испанский\": \"es_XX\"\n",
        "}\n",
        "\n",
        "def extract_text_from_pdf(pdf_file):\n",
        "    try:\n",
        "        reader = PdfReader(pdf_file)\n",
        "        text = \"\"\n",
        "        for page in reader.pages:\n",
        "            text += page.extract_text() or ''\n",
        "        return text\n",
        "    except Exception as e:\n",
        "        st.error(f\"Error extracting text from PDF: {str(e)}\")\n",
        "        return None\n",
        "\n",
        "@st.cache(allow_output_mutation=True)\n",
        "def load_model():\n",
        "    tokenizer = MBart50TokenizerFast.from_pretrained(\"facebook/mbart-large-50-many-to-many-mmt\")\n",
        "    model = MBartForConditionalGeneration.from_pretrained(\"facebook/mbart-large-50-many-to-many-mmt\")\n",
        "    device = torch.device('cuda' if torch.cuda.is_available() else 'cpu')\n",
        "    model.to(device)\n",
        "    return tokenizer, model, device\n",
        "\n",
        "def summarize_text(text, tokenizer, model, device, summary_type, src_lang, tgt_lang):\n",
        "    try:\n",
        "      # Токенизация предложений\n",
        "      sentence_list = nltk.sent_tokenize(text)\n",
        "\n",
        "      # Удаление специальных символов и цифр\n",
        "      formatted_text = re.sub('[^a-zA-Z]', ' ', text)\n",
        "      formatted_text = re.sub(r'\\s+', ' ', formatted_text)\n",
        "\n",
        "      # Получение стоп-слов\n",
        "      stopwords = nltk.corpus.stopwords.words('english')\n",
        "\n",
        "      # Подсчет частоты слов\n",
        "      word_frequencies = {}\n",
        "      for word in nltk.word_tokenize(formatted_text):\n",
        "          if word.lower() not in stopwords:\n",
        "              if word not in word_frequencies.keys():\n",
        "                  word_frequencies[word] = 1\n",
        "              else:\n",
        "                  word_frequencies[word] += 1\n",
        "\n",
        "      # Нормализация частоты слов\n",
        "      maximum_frequency = max(word_frequencies.values())\n",
        "      for word in word_frequencies.keys():\n",
        "          word_frequencies[word] = (word_frequencies[word] / maximum_frequency)\n",
        "\n",
        "      # Подсчет оценок предложений\n",
        "      sentence_scores = {}\n",
        "      for sent in sentence_list:\n",
        "          for word in nltk.word_tokenize(sent.lower()):\n",
        "              if word in word_frequencies.keys():\n",
        "                  if len(sent.split(' ')) < 30:\n",
        "                      if sent not in sentence_scores.keys():\n",
        "                          sentence_scores[sent] = word_frequencies[word]\n",
        "                      else:\n",
        "                          sentence_scores[sent] += word_frequencies[word]\n",
        "\n",
        "      # Выбор наиболее важных предложений\n",
        "      summary_sentences = heapq.nlargest(7, sentence_scores, key=sentence_scores.get)\n",
        "\n",
        "      # Объединение предложений в итоговое краткое содержание\n",
        "      summary = ' '.join(summary_sentences)\n",
        "\n",
        "      return summary\n",
        "    except Exception as e:\n",
        "        st.error(f'Произошла ошибка при суммаризации текста: {str(e)}')\n",
        "        return None\n",
        "\n",
        "st.title(\"Многоязычный суммаризатор текста\")\n",
        "\n",
        "tokenizer, model, device = load_model()\n",
        "\n",
        "input_option = st.radio(\n",
        "    \"Выберите способ ввода текста\",\n",
        "    (\"Загрузить PDF\", \"Ввести текст\")\n",
        ")\n",
        "\n",
        "if input_option == \"Загрузить PDF\":\n",
        "    uploaded_file = st.file_uploader(\"Выберите PDF файл (макс. 5 MB)\", type=\"pdf\")\n",
        "    if uploaded_file is not None:\n",
        "        if uploaded_file.size > MAX_FILE_SIZE:\n",
        "            st.error(f\"Файл слишком большой. Максимальный размер: {MAX_FILE_SIZE/1024/1024} MB\")\n",
        "        else:\n",
        "            st.info(\"PDF файл успешно загружен. Извлечение текста...\")\n",
        "            text = extract_text_from_pdf(uploaded_file)\n",
        "    else:\n",
        "        text = None\n",
        "else:\n",
        "    text = st.text_area(\"Введите текст для суммаризации\", height=200)\n",
        "\n",
        "if text:\n",
        "    src_lang = st.selectbox(\n",
        "        \"Выберите язык исходного текста\",\n",
        "        list(SUPPORTED_LANGUAGES.keys()),\n",
        "        index=0\n",
        "    )\n",
        "\n",
        "    tgt_lang = st.selectbox(\n",
        "        \"Выберите язык для суммаризации\",\n",
        "        list(SUPPORTED_LANGUAGES.keys()),\n",
        "        index=0\n",
        "    )\n",
        "\n",
        "    summary_type = st.selectbox(\n",
        "        \"Выберите тип суммаризации\",\n",
        "        (\"standard\", \"brief\", \"big\"),\n",
        "        format_func=lambda x: {\"standard\": \"Стандартный\", \"brief\": \"Краткий\", \"big\": \"Расширенный\"}[x]\n",
        "    )\n",
        "\n",
        "    if st.button(\"Суммаризировать\"):\n",
        "        st.info(\"Суммаризация текста...\")\n",
        "        summary = summarize_text(\n",
        "            text,\n",
        "            tokenizer,\n",
        "            model,\n",
        "            device,\n",
        "            summary_type,\n",
        "            SUPPORTED_LANGUAGES[src_lang],\n",
        "            SUPPORTED_LANGUAGES[tgt_lang]\n",
        "        )\n",
        "        if summary:\n",
        "            st.subheader(\"Краткое содержание\")\n",
        "            st.text_area(\"Текст краткого содержания\", summary, height=200)\n",
        "\n",
        "            summary_bytes = summary.encode('utf-8')\n",
        "            st.download_button(label=\"Скачать краткое содержание\",\n",
        "                data=summary_bytes,\n",
        "                file_name=f\"summary_{summary_type}_{tgt_lang}.txt\",\n",
        "                mime=\"text/plain\"\n",
        "            )\n",
        "        else:\n",
        "            st.error(\"Не удалось сгенерировать краткое содержание. Пожалуйста, проверьте введенный текст и попробуйте снова.\")\n",
        "elif input_option == \"Загрузить PDF\":\n",
        "    st.error(\"Не удалось извлечь текст из PDF. Пожалуйста, проверьте, является ли файл корректным, и попробуйте снова.\")\n",
        "\n"
      ],
      "metadata": {
        "colab": {
          "base_uri": "https://localhost:8080/"
        },
        "id": "TA5-d8RI2XPD",
        "outputId": "0b2077fc-4263-430d-8818-1368e7eb840c"
      },
      "execution_count": null,
      "outputs": [
        {
          "output_type": "stream",
          "name": "stderr",
          "text": [
            "2024-11-03 18:46:00.353 Thread 'MainThread': missing ScriptRunContext! This warning can be ignored when running in bare mode.\n",
            "2024-11-03 18:46:00.356 Thread 'MainThread': missing ScriptRunContext! This warning can be ignored when running in bare mode.\n",
            "2024-11-03 18:46:00.358 \n",
            "`st.cache` is deprecated and will be removed soon. Please use one of Streamlit's new\n",
            "caching commands, `st.cache_data` or `st.cache_resource`. More information\n",
            "[in our docs](https://docs.streamlit.io/develop/concepts/architecture/caching).\n",
            "\n",
            "**Note**: The behavior of `st.cache` was updated in Streamlit 1.36 to the new caching\n",
            "logic used by `st.cache_data` and `st.cache_resource`. This might lead to some problems\n",
            "or unexpected behavior in certain edge cases.\n",
            "\n",
            "2024-11-03 18:46:00.364 Thread 'MainThread': missing ScriptRunContext! This warning can be ignored when running in bare mode.\n",
            "2024-11-03 18:46:00.367 Thread 'MainThread': missing ScriptRunContext! This warning can be ignored when running in bare mode.\n",
            "2024-11-03 18:46:00.369 Thread 'MainThread': missing ScriptRunContext! This warning can be ignored when running in bare mode.\n",
            "2024-11-03 18:46:00.371 Thread 'MainThread': missing ScriptRunContext! This warning can be ignored when running in bare mode.\n",
            "2024-11-03 18:46:00.373 Thread 'MainThread': missing ScriptRunContext! This warning can be ignored when running in bare mode.\n",
            "2024-11-03 18:46:00.377 Thread 'MainThread': missing ScriptRunContext! This warning can be ignored when running in bare mode.\n",
            "2024-11-03 18:46:00.378 Thread 'MainThread': missing ScriptRunContext! This warning can be ignored when running in bare mode.\n",
            "2024-11-03 18:46:00.380 Thread 'MainThread': missing ScriptRunContext! This warning can be ignored when running in bare mode.\n",
            "2024-11-03 18:46:00.381 Thread 'MainThread': missing ScriptRunContext! This warning can be ignored when running in bare mode.\n",
            "2024-11-03 18:46:00.403 Thread 'MainThread': missing ScriptRunContext! This warning can be ignored when running in bare mode.\n",
            "2024-11-03 18:46:00.407 Thread 'MainThread': missing ScriptRunContext! This warning can be ignored when running in bare mode.\n",
            "2024-11-03 18:46:00.410 Thread 'MainThread': missing ScriptRunContext! This warning can be ignored when running in bare mode.\n",
            "2024-11-03 18:46:00.411 Thread 'MainThread': missing ScriptRunContext! This warning can be ignored when running in bare mode.\n",
            "2024-11-03 18:46:00.414 Thread 'MainThread': missing ScriptRunContext! This warning can be ignored when running in bare mode.\n",
            "2024-11-03 18:46:00.415 Thread 'MainThread': missing ScriptRunContext! This warning can be ignored when running in bare mode.\n",
            "2024-11-03 18:46:00.417 Thread 'MainThread': missing ScriptRunContext! This warning can be ignored when running in bare mode.\n",
            "2024-11-03 18:46:00.418 Thread 'MainThread': missing ScriptRunContext! This warning can be ignored when running in bare mode.\n",
            "2024-11-03 18:46:00.420 Thread 'MainThread': missing ScriptRunContext! This warning can be ignored when running in bare mode.\n",
            "2024-11-03 18:46:00.422 Thread 'MainThread': missing ScriptRunContext! This warning can be ignored when running in bare mode.\n",
            "2024-11-03 18:46:00.424 Thread 'MainThread': missing ScriptRunContext! This warning can be ignored when running in bare mode.\n"
          ]
        }
      ]
    },
    {
      "cell_type": "markdown",
      "metadata": {
        "id": "qpLd--KyV8Af"
      },
      "source": [
        "Этот код создает веб-приложение с помощью Streamlit для загрузки PDF-файла, извлечения из него текста и создания краткого содержания."
      ]
    },
    {
      "cell_type": "code",
      "source": [
        "ngrok.set_auth_token(\"2oKmfjGjLjAjUT0jj2vL1RpQJiC_2ETkEsv1JpNrUiDUjeuvq\")"
      ],
      "metadata": {
        "id": "Cp6iMlAI4GEh"
      },
      "execution_count": null,
      "outputs": []
    },
    {
      "cell_type": "code",
      "execution_count": null,
      "metadata": {
        "id": "0uV6DksKeplH"
      },
      "outputs": [],
      "source": [
        "!streamlit run app.py &>/content/logs.txt &"
      ]
    },
    {
      "cell_type": "code",
      "source": [
        "import requests\n",
        "\n",
        "try:\n",
        "    response = requests.get(\"http://localhost:8501\")\n",
        "    print(f\"Streamlit работает. Статус код: {response.status_code}\")\n",
        "except requests.exceptions.ConnectionError:\n",
        "    print(\"Не удалось подключиться к Streamlit\")"
      ],
      "metadata": {
        "colab": {
          "base_uri": "https://localhost:8080/"
        },
        "id": "qdbEOlMb9bIf",
        "outputId": "a081dabe-092e-494c-9d79-07bc06a2d4ed"
      },
      "execution_count": null,
      "outputs": [
        {
          "output_type": "stream",
          "name": "stdout",
          "text": [
            "Streamlit работает. Статус код: 200\n"
          ]
        }
      ]
    },
    {
      "cell_type": "code",
      "source": [
        "!curl -s http://localhost:4040/api/tunnels"
      ],
      "metadata": {
        "colab": {
          "base_uri": "https://localhost:8080/"
        },
        "id": "HE4Vi1cbGSjA",
        "outputId": "34bc629d-2f0a-41dd-b362-838324b53176"
      },
      "execution_count": null,
      "outputs": [
        {
          "output_type": "stream",
          "name": "stdout",
          "text": [
            "{\"tunnels\":[{\"name\":\"http-http://localhost:8501-7a9b559c-c668-41e2-a566-f6b778e893a3\",\"ID\":\"398c02a85a8756e0f6446f554f3b9d5b\",\"uri\":\"/api/tunnels/http-http:%2F%2Flocalhost:8501-7a9b559c-c668-41e2-a566-f6b778e893a3\",\"public_url\":\"https://ca7c-34-125-140-62.ngrok-free.app\",\"proto\":\"https\",\"config\":{\"addr\":\"http://localhost:8501\",\"inspect\":true},\"metrics\":{\"conns\":{\"count\":6,\"gauge\":1,\"rate1\":0.0017713631235299395,\"rate5\":0.008523014632337036,\"rate15\":0.00500455017929987,\"p50\":3956564669.5,\"p90\":97613253768,\"p95\":97613253768,\"p99\":97613253768},\"http\":{\"count\":10,\"rate1\":0.0013171314474606022,\"rate5\":0.01265774787680523,\"rate15\":0.00804598188385317,\"p50\":2543802,\"p90\":351489008.70000005,\"p95\":376362580,\"p99\":376362580}}}],\"uri\":\"/api/tunnels\"}\n"
          ]
        }
      ]
    },
    {
      "cell_type": "code",
      "source": [
        "tunnels = ngrok.get_tunnels()\n",
        "print(f\"Активные туннели: {tunnels}\")"
      ],
      "metadata": {
        "colab": {
          "base_uri": "https://localhost:8080/"
        },
        "id": "5Ahhdlx-j3Fh",
        "outputId": "13d18ed2-a6f9-481f-a731-0e0a96cea4d5"
      },
      "execution_count": null,
      "outputs": [
        {
          "output_type": "stream",
          "name": "stdout",
          "text": [
            "Активные туннели: [<NgrokTunnel: \"https://ca7c-34-125-140-62.ngrok-free.app\" -> \"http://localhost:8501\">]\n"
          ]
        }
      ]
    },
    {
      "cell_type": "code",
      "source": [
        "ngrok.kill()"
      ],
      "metadata": {
        "id": "OOzTFekgOUfi"
      },
      "execution_count": null,
      "outputs": []
    },
    {
      "cell_type": "code",
      "source": [
        "public_url = ngrok.connect(addr='http://localhost:8501')\n",
        "print(public_url)"
      ],
      "metadata": {
        "colab": {
          "base_uri": "https://localhost:8080/"
        },
        "id": "Fpm6sufr7ho8",
        "outputId": "3e787e3a-1f1a-4d49-d01a-1ec4ed91075e"
      },
      "execution_count": null,
      "outputs": [
        {
          "output_type": "stream",
          "name": "stdout",
          "text": [
            "NgrokTunnel: \"https://65d8-34-125-140-62.ngrok-free.app\" -> \"http://localhost:8501\"\n"
          ]
        }
      ]
    }
  ],
  "metadata": {
    "colab": {
      "provenance": [],
      "authorship_tag": "ABX9TyMObBa3TexO7XPxickIuKEn",
      "include_colab_link": true
    },
    "kernelspec": {
      "display_name": "Python 3",
      "name": "python3"
    },
    "language_info": {
      "name": "python"
    }
  },
  "nbformat": 4,
  "nbformat_minor": 0
}